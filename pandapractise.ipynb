{
 "cells": [
  {
   "cell_type": "code",
   "execution_count": null,
   "id": "8a9aebd4",
   "metadata": {},
   "outputs": [
    {
     "name": "stdout",
     "output_type": "stream",
     "text": [
      "   Order ID Customer Name   Order Date   Product  Quantity  Unit Price  Total Revenue\n",
      "0      1001      John Doe   01/01/2024  Widget A      10.0        25.0          250.0\n",
      "1      1002    Jane Smith   01/02/2024  Widget B       5.0        40.0          200.0\n",
      "4      1005     Bob Brown  2024/01/05'  Widget B      10.0        40.0          400.0\n",
      "5      1006      John Doe   06/01/2024  Widget A       4.0        25.0          100.0\n",
      "6      1001      John Doe   01/01/2024  Widget A      10.0        25.0          250.0\n",
      "7      1007    Jane Smith   07/01/2024  Widget C      -6.0        70.0         -420.0\n"
     ]
    }
   ],
   "source": [
    "import pandas as pd #Removing rows with NaN values\n",
    "\n",
    "df = pd.read_csv('Sales.csv')\n",
    "\n",
    "new_df = df.dropna()\n",
    "\n",
    "print(new_df.to_string())"
   ]
  },
  {
   "cell_type": "code",
   "execution_count": null,
   "id": "c8a951e1",
   "metadata": {},
   "outputs": [
    {
     "name": "stdout",
     "output_type": "stream",
     "text": [
      "   Order ID  Customer Name Order Date   Product  Quantity  Unit Price  Total Revenue\n",
      "0      1001       John Doe 2024-01-01  Widget A      10.0        25.0          250.0\n",
      "1      1002     Jane Smith 2024-01-02  Widget B       5.0        40.0          200.0\n",
      "2      1003            NaN 2024-01-03  Widget A       NaN        25.0            NaN\n",
      "3      1004  Alice Johnson 2024-04-01  Widget C       3.0         NaN          210.0\n",
      "4      1005      Bob Brown 2024-01-05  Widget B      10.0        40.0          400.0\n",
      "5      1006       John Doe 2024-06-01  Widget A       4.0        25.0          100.0\n",
      "6      1001       John Doe 2024-01-01  Widget A      10.0        25.0          250.0\n",
      "7      1007     Jane Smith 2024-07-01  Widget C      -6.0        70.0         -420.0\n"
     ]
    }
   ],
   "source": [
    "import pandas as pd\n",
    "#adjusting date format\n",
    "df = pd.read_csv('Sales.csv')\n",
    "\n",
    "df['Order Date'] = pd.to_datetime(df['Order Date'], format='mixed')\n",
    "\n",
    "print(df.to_string())"
   ]
  },
  {
   "cell_type": "code",
   "execution_count": null,
   "id": "d16d14a0",
   "metadata": {},
   "outputs": [],
   "source": [
    "df.drop_duplicates()"
   ]
  }
 ],
 "metadata": {
  "kernelspec": {
   "display_name": "base",
   "language": "python",
   "name": "python3"
  },
  "language_info": {
   "codemirror_mode": {
    "name": "ipython",
    "version": 3
   },
   "file_extension": ".py",
   "mimetype": "text/x-python",
   "name": "python",
   "nbconvert_exporter": "python",
   "pygments_lexer": "ipython3",
   "version": "3.12.7"
  }
 },
 "nbformat": 4,
 "nbformat_minor": 5
}
