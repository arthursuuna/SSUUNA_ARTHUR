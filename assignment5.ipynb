{
 "cells": [
  {
   "cell_type": "code",
   "execution_count": 2,
   "id": "2eb585c4",
   "metadata": {},
   "outputs": [],
   "source": [
    "import pandas as pd\n",
    "import matplotlib.pyplot as plt\n",
    "import seaborn as sns\n",
    "import numpy as np\n",
    "from datetime import datetime"
   ]
  },
  {
   "cell_type": "code",
   "execution_count": 3,
   "id": "54d375f4",
   "metadata": {},
   "outputs": [
    {
     "data": {
      "text/html": [
       "<div>\n",
       "<style scoped>\n",
       "    .dataframe tbody tr th:only-of-type {\n",
       "        vertical-align: middle;\n",
       "    }\n",
       "\n",
       "    .dataframe tbody tr th {\n",
       "        vertical-align: top;\n",
       "    }\n",
       "\n",
       "    .dataframe thead th {\n",
       "        text-align: right;\n",
       "    }\n",
       "</style>\n",
       "<table border=\"1\" class=\"dataframe\">\n",
       "  <thead>\n",
       "    <tr style=\"text-align: right;\">\n",
       "      <th></th>\n",
       "      <th>Sensor_ID</th>\n",
       "      <th>Date</th>\n",
       "      <th>Soil_Moisture(%)</th>\n",
       "      <th>Soil_pH</th>\n",
       "      <th>Temperature(C)</th>\n",
       "      <th>Humidity(%)</th>\n",
       "      <th>Crop_Type</th>\n",
       "      <th>Fertilizer_Recommended(kg/ha)</th>\n",
       "      <th>Irrigation_Recommended(mm)</th>\n",
       "      <th>Drone_Image_ID</th>\n",
       "    </tr>\n",
       "  </thead>\n",
       "  <tbody>\n",
       "    <tr>\n",
       "      <th>0</th>\n",
       "      <td>SEN-1000</td>\n",
       "      <td>2025-01-01</td>\n",
       "      <td>36.22</td>\n",
       "      <td>6.98</td>\n",
       "      <td>21.3</td>\n",
       "      <td>50.4</td>\n",
       "      <td>Tomatoes</td>\n",
       "      <td>67.6</td>\n",
       "      <td>26.6</td>\n",
       "      <td>IMG-2000</td>\n",
       "    </tr>\n",
       "    <tr>\n",
       "      <th>1</th>\n",
       "      <td>SEN-1001</td>\n",
       "      <td>2025-01-02</td>\n",
       "      <td>76.55</td>\n",
       "      <td>5.03</td>\n",
       "      <td>23.5</td>\n",
       "      <td>34.3</td>\n",
       "      <td>Wheat</td>\n",
       "      <td>130.4</td>\n",
       "      <td>8.3</td>\n",
       "      <td>IMG-2001</td>\n",
       "    </tr>\n",
       "    <tr>\n",
       "      <th>2</th>\n",
       "      <td>SEN-1002</td>\n",
       "      <td>2025-01-03</td>\n",
       "      <td>61.24</td>\n",
       "      <td>6.52</td>\n",
       "      <td>21.9</td>\n",
       "      <td>54.6</td>\n",
       "      <td>Tomatoes</td>\n",
       "      <td>36.0</td>\n",
       "      <td>29.4</td>\n",
       "      <td>IMG-2002</td>\n",
       "    </tr>\n",
       "    <tr>\n",
       "      <th>3</th>\n",
       "      <td>SEN-1003</td>\n",
       "      <td>2025-01-04</td>\n",
       "      <td>51.91</td>\n",
       "      <td>6.62</td>\n",
       "      <td>24.0</td>\n",
       "      <td>48.7</td>\n",
       "      <td>Maize</td>\n",
       "      <td>85.8</td>\n",
       "      <td>19.6</td>\n",
       "      <td>IMG-2003</td>\n",
       "    </tr>\n",
       "    <tr>\n",
       "      <th>4</th>\n",
       "      <td>SEN-1004</td>\n",
       "      <td>2025-01-05</td>\n",
       "      <td>20.92</td>\n",
       "      <td>5.98</td>\n",
       "      <td>19.2</td>\n",
       "      <td>70.6</td>\n",
       "      <td>Wheat</td>\n",
       "      <td>75.6</td>\n",
       "      <td>29.9</td>\n",
       "      <td>IMG-2004</td>\n",
       "    </tr>\n",
       "  </tbody>\n",
       "</table>\n",
       "</div>"
      ],
      "text/plain": [
       "  Sensor_ID        Date Soil_Moisture(%) Soil_pH Temperature(C) Humidity(%)  \\\n",
       "0  SEN-1000  2025-01-01            36.22    6.98           21.3        50.4   \n",
       "1  SEN-1001  2025-01-02            76.55    5.03           23.5        34.3   \n",
       "2  SEN-1002  2025-01-03            61.24    6.52           21.9        54.6   \n",
       "3  SEN-1003  2025-01-04            51.91    6.62           24.0        48.7   \n",
       "4  SEN-1004  2025-01-05            20.92    5.98           19.2        70.6   \n",
       "\n",
       "  Crop_Type Fertilizer_Recommended(kg/ha) Irrigation_Recommended(mm)  \\\n",
       "0  Tomatoes                          67.6                       26.6   \n",
       "1     Wheat                         130.4                        8.3   \n",
       "2  Tomatoes                          36.0                       29.4   \n",
       "3     Maize                          85.8                       19.6   \n",
       "4     Wheat                          75.6                       29.9   \n",
       "\n",
       "  Drone_Image_ID  \n",
       "0       IMG-2000  \n",
       "1       IMG-2001  \n",
       "2       IMG-2002  \n",
       "3       IMG-2003  \n",
       "4       IMG-2004  "
      ]
     },
     "execution_count": 3,
     "metadata": {},
     "output_type": "execute_result"
    }
   ],
   "source": [
    "df = pd.read_csv(\"climate_action_data.csv\")\n",
    "df.head()"
   ]
  },
  {
   "cell_type": "code",
   "execution_count": 4,
   "id": "646c79c6",
   "metadata": {},
   "outputs": [
    {
     "name": "stdout",
     "output_type": "stream",
     "text": [
      "Sensor_ID                        0\n",
      "Date                             4\n",
      "Soil_Moisture(%)                 0\n",
      "Soil_pH                          0\n",
      "Temperature(C)                   0\n",
      "Humidity(%)                      0\n",
      "Crop_Type                        4\n",
      "Fertilizer_Recommended(kg/ha)    0\n",
      "Irrigation_Recommended(mm)       0\n",
      "Drone_Image_ID                   0\n",
      "dtype: int64\n"
     ]
    }
   ],
   "source": [
    "print(df.isnull().sum())"
   ]
  },
  {
   "cell_type": "code",
   "execution_count": 5,
   "id": "f6f18299",
   "metadata": {},
   "outputs": [],
   "source": [
    "df['Crop_Type'] = df['Crop_Type'].fillna(df['Crop_Type'].mode()[0])"
   ]
  },
  {
   "cell_type": "code",
   "execution_count": 6,
   "id": "c13931eb",
   "metadata": {},
   "outputs": [
    {
     "name": "stderr",
     "output_type": "stream",
     "text": [
      "C:\\Users\\Katex\\AppData\\Local\\Temp\\ipykernel_22372\\1291857192.py:1: FutureWarning: Series.fillna with 'method' is deprecated and will raise in a future version. Use obj.ffill() or obj.bfill() instead.\n",
      "  df['Date'] = df['Date'].fillna(method='ffill')\n"
     ]
    }
   ],
   "source": [
    "df['Date'] = df['Date'].fillna(method='ffill')"
   ]
  },
  {
   "cell_type": "code",
   "execution_count": 7,
   "id": "bcace809",
   "metadata": {},
   "outputs": [
    {
     "name": "stdout",
     "output_type": "stream",
     "text": [
      "0    2025-01-01\n",
      "1    2025-01-02\n",
      "2    2025-01-03\n",
      "3    2025-01-04\n",
      "4    2025-01-05\n",
      "Name: Date, dtype: object\n",
      "object\n"
     ]
    }
   ],
   "source": [
    "print(df['Date'].head())\n",
    "print(df['Date'].dtype)"
   ]
  },
  {
   "cell_type": "code",
   "execution_count": 8,
   "id": "706bf971",
   "metadata": {},
   "outputs": [
    {
     "name": "stdout",
     "output_type": "stream",
     "text": [
      "Sensor_ID                        0\n",
      "Date                             0\n",
      "Soil_Moisture(%)                 0\n",
      "Soil_pH                          0\n",
      "Temperature(C)                   0\n",
      "Humidity(%)                      0\n",
      "Crop_Type                        0\n",
      "Fertilizer_Recommended(kg/ha)    0\n",
      "Irrigation_Recommended(mm)       0\n",
      "Drone_Image_ID                   0\n",
      "dtype: int64\n"
     ]
    }
   ],
   "source": [
    "print(df.isnull().sum())"
   ]
  },
  {
   "cell_type": "code",
   "execution_count": 9,
   "id": "a13a57b2",
   "metadata": {},
   "outputs": [
    {
     "data": {
      "text/plain": [
       "Sensor_ID                        0\n",
       "Date                             0\n",
       "Soil_Moisture(%)                 5\n",
       "Soil_pH                          5\n",
       "Temperature(C)                   5\n",
       "Humidity(%)                      5\n",
       "Crop_Type                        0\n",
       "Fertilizer_Recommended(kg/ha)    5\n",
       "Irrigation_Recommended(mm)       5\n",
       "Drone_Image_ID                   0\n",
       "dtype: int64"
      ]
     },
     "execution_count": 9,
     "metadata": {},
     "output_type": "execute_result"
    }
   ],
   "source": [
    "(df == 'error').any()\n",
    "(df == 'error').sum()"
   ]
  },
  {
   "cell_type": "code",
   "execution_count": 10,
   "id": "8f9582a1",
   "metadata": {},
   "outputs": [
    {
     "name": "stdout",
     "output_type": "stream",
     "text": [
      "0      False\n",
      "1      False\n",
      "2      False\n",
      "3      False\n",
      "4      False\n",
      "       ...  \n",
      "908     True\n",
      "909     True\n",
      "910     True\n",
      "911     True\n",
      "912     True\n",
      "Length: 913, dtype: bool\n",
      "    Sensor_ID        Date Soil_Moisture(%) Soil_pH Temperature(C) Humidity(%)  \\\n",
      "800  SEN-1008  2025-01-09            52.08    6.08           22.0        89.3   \n",
      "802  SEN-1175  2025-06-25            22.21    5.42           23.4        68.4   \n",
      "803  SEN-1735  2027-01-06             71.4    4.93           24.5        67.0   \n",
      "804  SEN-1242  2025-08-31            74.04    5.62           25.5        76.9   \n",
      "805  SEN-1764  2027-02-04            12.35    7.38           27.8        33.4   \n",
      "..        ...         ...              ...     ...            ...         ...   \n",
      "908  SEN-1090  2025-04-01            18.37    7.03           21.0        47.1   \n",
      "909  SEN-1201  2025-07-21            15.89     6.4           30.5        33.3   \n",
      "910  SEN-1309  2025-11-06            28.96    5.04           20.5        47.6   \n",
      "911  SEN-1339  2025-12-06            16.85    6.57           19.3        34.5   \n",
      "912  SEN-1050  2025-02-20            77.87    4.73           18.6        46.2   \n",
      "\n",
      "    Crop_Type Fertilizer_Recommended(kg/ha) Irrigation_Recommended(mm)  \\\n",
      "800  Tomatoes                          67.8                       11.4   \n",
      "802     Beans                          86.5                       18.3   \n",
      "803     Wheat                          95.5                        6.2   \n",
      "804     Wheat                          66.9                       12.9   \n",
      "805   Lettuce                         107.6                       10.5   \n",
      "..        ...                           ...                        ...   \n",
      "908     Maize                          94.2                        8.0   \n",
      "909  Tomatoes                         108.3                       14.5   \n",
      "910  Tomatoes                          81.1                       12.7   \n",
      "911     Beans                          48.5                       12.7   \n",
      "912     Beans                         136.5                       23.1   \n",
      "\n",
      "    Drone_Image_ID  \n",
      "800       IMG-2008  \n",
      "802       IMG-2175  \n",
      "803       IMG-2735  \n",
      "804       IMG-2242  \n",
      "805       IMG-2764  \n",
      "..             ...  \n",
      "908       IMG-2090  \n",
      "909       IMG-2201  \n",
      "910       IMG-2309  \n",
      "911       IMG-2339  \n",
      "912       IMG-2050  \n",
      "\n",
      "[111 rows x 10 columns]\n"
     ]
    }
   ],
   "source": [
    "print(df.duplicated())\n",
    "print(df[df.duplicated()])"
   ]
  },
  {
   "cell_type": "code",
   "execution_count": 12,
   "id": "ff3926c2",
   "metadata": {},
   "outputs": [],
   "source": [
    "df = df.drop_duplicates()"
   ]
  },
  {
   "cell_type": "code",
   "execution_count": 13,
   "id": "c17ab7fb",
   "metadata": {},
   "outputs": [],
   "source": [
    "df.replace('error', np.nan, inplace=True)"
   ]
  }
 ],
 "metadata": {
  "kernelspec": {
   "display_name": "base",
   "language": "python",
   "name": "python3"
  },
  "language_info": {
   "codemirror_mode": {
    "name": "ipython",
    "version": 3
   },
   "file_extension": ".py",
   "mimetype": "text/x-python",
   "name": "python",
   "nbconvert_exporter": "python",
   "pygments_lexer": "ipython3",
   "version": "3.12.7"
  }
 },
 "nbformat": 4,
 "nbformat_minor": 5
}
